{
 "cells": [
  {
   "cell_type": "code",
   "execution_count": 43,
   "metadata": {
    "collapsed": true
   },
   "outputs": [],
   "source": [
    "import re\n",
    "import pandas as pd\n",
    "import numpy as np\n",
    "import nltk\n",
    "from nltk.tokenize import word_tokenize\n",
    "from nltk.corpus import stopwords\n",
    "from nltk.stem import PorterStemmer\n",
    "from sklearn.feature_extraction.text import TfidfVectorizer\n",
    "\n",
    "\n",
    "nltk.data.path.append('/Users/naveenverma/nltk_data')\n",
    "\n",
    "\n",
    "stemmer = PorterStemmer()\n",
    "\n",
    "# A function for preprocessing text\n",
    "def preprocess_text(text):\n",
    "    # Convert text to lowercase\n",
    "    text = text.lower()\n",
    "    # Remove punctuation\n",
    "    text = re.sub(r'[^\\w\\s]', '', text)\n",
    "    # Remove URLs\n",
    "    text = re.sub(r'http\\S+|www\\S+', '', text)\n",
    "    # Remove numbers\n",
    "    text = re.sub(r'\\d+', '', text)\n",
    "    return text\n",
    "\n",
    "# A function for tokenizing and further processing each message\n",
    "def tokenize_message(message):\n",
    "    # Tokenize the message\n",
    "    tokens = word_tokenize(message)\n",
    "    # Remove stopwords\n",
    "    stop_words = set(stopwords.words('english'))\n",
    "    tokens = [token for token in tokens if token not in stop_words]\n",
    "    # Stem the tokens\n",
    "    tokens = [stemmer.stem(token) for token in tokens]\n",
    "    return tokens"
   ]
  },
  {
   "cell_type": "code",
   "execution_count": 45,
   "outputs": [],
   "source": [
    "class LogisticRegression:\n",
    "    def __init__(self, learning_rate=0.01, max_iter=1000, tol=1e-4, reg_param=0.1):\n",
    "        self.learning_rate = learning_rate\n",
    "        self.max_iter = max_iter\n",
    "        self.tol = tol\n",
    "        self.reg_param = reg_param\n",
    "        self.theta = None\n",
    "\n",
    "    def _sigmoid(self, z):\n",
    "        return 1 / (1 + np.exp(-z))\n",
    "\n",
    "    def _loss(self, X, y):\n",
    "        z = np.dot(X, self.theta)\n",
    "        h = self._sigmoid(z)\n",
    "        loss = -np.mean(y * np.log(h) + (1 - y) * np.log(1 - h))\n",
    "        # Regularization term\n",
    "        reg_term = self.reg_param * np.sum(self.theta[1:] ** 2)\n",
    "        loss += reg_term\n",
    "        return loss\n",
    "\n",
    "    def _gradient(self, X, y):\n",
    "        z = np.dot(X, self.theta)\n",
    "        h = self._sigmoid(z)\n",
    "        gradient = np.dot(X.T, (h - y)) / len(y)\n",
    "        # Regularization term gradient\n",
    "        reg_gradient = self.reg_param * np.concatenate(([0], self.theta[1:] * 2))\n",
    "        gradient += reg_gradient\n",
    "        return gradient\n",
    "\n",
    "    def fit(self, X, y):\n",
    "        X = np.c_[np.ones((X.shape[0], 1)), X]\n",
    "        self.theta = np.zeros(X.shape[1])\n",
    "        prev_loss = float('inf')\n",
    "\n",
    "        for i in range(self.max_iter):\n",
    "            gradient = self._gradient(X, y)\n",
    "            self.theta -= self.learning_rate * gradient\n",
    "\n",
    "            loss = self._loss(X, y)\n",
    "            if abs(prev_loss - loss) < self.tol:\n",
    "                break\n",
    "            prev_loss = loss\n",
    "\n",
    "    def predict_proba(self, X):\n",
    "        X = np.c_[np.ones((X.shape[0], 1)), X]\n",
    "        z = np.dot(X, self.theta)\n",
    "        proba = self._sigmoid(z)\n",
    "        return proba\n",
    "\n",
    "    def predict(self, X, threshold=0.5):\n",
    "        proba = self.predict_proba(X)\n",
    "        predictions = (proba >= threshold).astype(int)\n",
    "        return predictions\n"
   ],
   "metadata": {
    "collapsed": false
   }
  },
  {
   "cell_type": "code",
   "execution_count": 46,
   "outputs": [
    {
     "name": "stdout",
     "output_type": "stream",
     "text": [
      "  Label                                            Message\n",
      "0   ham  Go until jurong point, crazy.. Available only ...\n",
      "1   ham                      Ok lar... Joking wif u oni...\n",
      "2  spam  Free entry in 2 a wkly comp to win FA Cup fina...\n",
      "3   ham  U dun say so early hor... U c already then say...\n",
      "4   ham  Nah I don't think he goes to usf, he lives aro...\n",
      "Train set size: 3343\n",
      "Test set size: 1114\n",
      "Validation set size: 1115\n"
     ]
    }
   ],
   "source": [
    "# Read the text file into a DataFrame\n",
    "df = pd.read_csv('/Users/naveenverma/Desktop/NewStart/Dataset/a1-data/SMSSpamCollection', sep='\\t', header=None, names=['Label', 'Message'])\n",
    "# Data table\n",
    "print(df.head())\n",
    "\n",
    "# Apply preprocessing and tokenization to each message\n",
    "df['Processed_Message'] = df['Message'].apply(preprocess_text)\n",
    "df['Tokenized_Message'] = df['Processed_Message'].apply(tokenize_message)\n",
    "\n",
    "# Convert the text tokens back to strings\n",
    "df['Tokenized_Message'] = df['Tokenized_Message'].apply(lambda x: ' '.join(x))\n",
    "\n",
    "# Split the dataset into train, test, and validation sets\n",
    "train_size = int(0.6 * len(df))\n",
    "test_size = int(0.2 * len(df))\n",
    "\n",
    "train_data = df[:train_size]\n",
    "test_data = df[train_size:train_size+test_size]\n",
    "val_data = df[train_size+test_size:]\n",
    "\n",
    "# Reset index for each dataset\n",
    "train_data.reset_index(drop=True, inplace=True)\n",
    "test_data.reset_index(drop=True, inplace=True)\n",
    "val_data.reset_index(drop=True, inplace=True)\n",
    "\n",
    "# Print the sizes of the resulting sets\n",
    "print(\"Train set size:\", len(train_data))\n",
    "print(\"Test set size:\", len(test_data))\n",
    "print(\"Validation set size:\", len(val_data))\n",
    "\n",
    "# Prepare data for training\n",
    "X_train = train_data['Tokenized_Message'].values\n",
    "y_train = train_data['Label'].map({'ham': 0, 'spam': 1}).values\n",
    "\n",
    "X_test = test_data['Tokenized_Message'].values\n",
    "y_test = test_data['Label'].map({'ham': 0, 'spam': 1}).values\n",
    "\n",
    "X_val = val_data['Tokenized_Message'].values\n",
    "y_val = val_data['Label'].map({'ham': 0, 'spam': 1}).values"
   ],
   "metadata": {
    "collapsed": false
   }
  },
  {
   "cell_type": "code",
   "execution_count": 47,
   "outputs": [
    {
     "data": {
      "text/plain": "<Figure size 640x480 with 1 Axes>",
      "image/png": "[encoded data removed]"
     },
     "metadata": {},
     "output_type": "display_data"
    }
   ],
   "source": [
    "# Class distribution\n",
    "import matplotlib.pyplot as plt\n",
    "df['Label'].value_counts(ascending=True).plot.barh()\n",
    "plt.title(\"Frequency of Classes\")\n",
    "plt.show()"
   ],
   "metadata": {
    "collapsed": false
   }
  },
  {
   "cell_type": "code",
   "execution_count": 48,
   "outputs": [],
   "source": [
    "# Calculate evaluation metrics\n",
    "def calculate_metrics(true_labels, predicted_labels):\n",
    "    # Calculate accuracy\n",
    "    accuracy = np.mean(true_labels == predicted_labels)\n",
    "\n",
    "    # Calculate true positives, true negatives, false positives, false negatives\n",
    "    tp = np.sum((true_labels == 0) & (predicted_labels == 0))\n",
    "    tn = np.sum((true_labels == 0) & (predicted_labels == 1))\n",
    "    fp = np.sum((true_labels == 1) & (predicted_labels == 0))\n",
    "    fn = np.sum((true_labels == 1) & (predicted_labels == 1))\n",
    "\n",
    "    # Calculate precision\n",
    "    precision = tp / (tp + fp) if (tp + fp) > 0 else 0\n",
    "\n",
    "    # Calculate recall\n",
    "    recall = tp / (tp + fn) if (tp + fn) > 0 else 0\n",
    "\n",
    "    # Calculate F1 score\n",
    "    f1_score = 2 * (precision * recall) / (precision + recall) if (precision + recall) > 0 else 0\n",
    "\n",
    "    return accuracy, precision, recall, f1_score"
   ],
   "metadata": {
    "collapsed": false
   }
  },
  {
   "cell_type": "code",
   "execution_count": 49,
   "outputs": [
    {
     "name": "stdout",
     "output_type": "stream",
     "text": [
      "Accuracy: 0.8599640933572711\n",
      "Precision: 0.8599640933572711\n",
      "Recall: 1.0\n",
      "F1 Score: 0.9247104247104247\n"
     ]
    }
   ],
   "source": [
    "model = LogisticRegression()\n",
    "\n",
    "# For training, we need to convert the text data into numerical features\n",
    "tfidf_vectorizer = TfidfVectorizer()\n",
    "X_train_tfidf = tfidf_vectorizer.fit_transform(X_train)\n",
    "model.fit(X_train_tfidf.toarray(), y_train)\n",
    "\n",
    "# Make predictions on the test set\n",
    "X_test_tfidf = tfidf_vectorizer.transform(X_test)\n",
    "predictions = model.predict(X_test_tfidf.toarray())\n",
    "\n",
    "X_val_tfidf = tfidf_vectorizer.transform(X_val)\n",
    "\n",
    "predictions = model.predict(X_test_tfidf.toarray())\n",
    "\n",
    "# Calculate evaluation metrics\n",
    "accuracy, precision, recall, f1_score = calculate_metrics(y_test, predictions)\n",
    "\n",
    "# Print the evaluation metrics\n",
    "print(\"Accuracy:\", accuracy)\n",
    "print(\"Precision:\", precision)\n",
    "print(\"Recall:\", recall)\n",
    "print(\"F1 Score:\", f1_score)"
   ],
   "metadata": {
    "collapsed": false
   }
  },
  {
   "cell_type": "code",
   "execution_count": 50,
   "outputs": [],
   "source": [
    "class SGDLogisticRegression:\n",
    "    def __init__(self, learning_rate=0.01, max_iter=1000, tol=1e-4, reg_param=0.1):\n",
    "        self.learning_rate = learning_rate\n",
    "        self.max_iter = max_iter\n",
    "        self.tol = tol\n",
    "        self.reg_param = reg_param\n",
    "        self.theta = None\n",
    "\n",
    "    def _sigmoid(self, z):\n",
    "        return 1 / (1 + np.exp(-z))\n",
    "\n",
    "    def _loss(self, X, y):\n",
    "        z = np.dot(X, self.theta)\n",
    "        h = self._sigmoid(z)\n",
    "        loss = -np.mean(y * np.log(h) + (1 - y) * np.log(1 - h))\n",
    "        # Regularization term\n",
    "        reg_term = self.reg_param * np.sum(self.theta[1:] ** 2)\n",
    "        loss += reg_term\n",
    "        return loss\n",
    "\n",
    "    def fit(self, X, y):\n",
    "        X = np.c_[np.ones((X.shape[0], 1)), X]\n",
    "        self.theta = np.zeros(X.shape[1])\n",
    "        prev_loss = float('inf')\n",
    "\n",
    "        for _ in range(self.max_iter):\n",
    "            # Shuffle the data\n",
    "            indices = np.random.permutation(len(X))\n",
    "            X_shuffled = X[indices]\n",
    "            y_shuffled = y[indices]\n",
    "\n",
    "            for i in range(len(X)):\n",
    "                xi = X_shuffled[i]\n",
    "                yi = y_shuffled[i]\n",
    "                gradient = self._gradient(xi, yi)\n",
    "                self.theta -= self.learning_rate * gradient\n",
    "\n",
    "            loss = self._loss(X, y)\n",
    "            if abs(prev_loss - loss) < self.tol:\n",
    "                break\n",
    "            prev_loss = loss\n",
    "\n",
    "    def _gradient(self, xi, yi):\n",
    "        z = np.dot(xi, self.theta)\n",
    "        h = self._sigmoid(z)\n",
    "        gradient = np.dot(xi.T, (h - yi))\n",
    "        # Regularization term gradient\n",
    "        reg_gradient = self.reg_param * np.concatenate(([0], self.theta[1:] * 2))\n",
    "        gradient += reg_gradient\n",
    "        return gradient / len(yi) if hasattr(yi, \"__len__\") else gradient\n",
    "\n",
    "\n",
    "    def predict_proba(self, X):\n",
    "        X = np.c_[np.ones((X.shape[0], 1)), X]  # add intercept term\n",
    "        z = np.dot(X, self.theta)\n",
    "        proba = self._sigmoid(z)\n",
    "        return proba\n",
    "\n",
    "    def predict(self, X, threshold=0.5):\n",
    "        proba = self.predict_proba(X)\n",
    "        predictions = (proba >= threshold).astype(int)\n",
    "        return predictions\n",
    "\n"
   ],
   "metadata": {
    "collapsed": false
   }
  },
  {
   "cell_type": "code",
   "execution_count": 51,
   "outputs": [
    {
     "name": "stdout",
     "output_type": "stream",
     "text": [
      "Accuracy: 0.8599640933572711\n",
      "Precision: 0.8599640933572711\n",
      "Recall: 1.0\n",
      "F1 Score: 0.9247104247104247\n"
     ]
    }
   ],
   "source": [
    "sgd_classifier = SGDLogisticRegression(learning_rate=0.01, max_iter=1000, tol=1e-4)\n",
    "\n",
    "# Fit the model to the training data\n",
    "sgd_classifier.fit(X_train_tfidf.toarray(), y_train)\n",
    "\n",
    "# Make predictions on the test data\n",
    "predictions = sgd_classifier.predict(X_test_tfidf.toarray())\n",
    "\n",
    "# Calculate evaluation metrics\n",
    "accuracy, precision, recall, f1_score = calculate_metrics(y_test, predictions)\n",
    "\n",
    "# Print the evaluation metrics\n",
    "print(\"Accuracy:\", accuracy)\n",
    "print(\"Precision:\", precision)\n",
    "print(\"Recall:\", recall)\n",
    "print(\"F1 Score:\", f1_score)"
   ],
   "metadata": {
    "collapsed": false
   }
  },
  {
   "cell_type": "code",
   "execution_count": 39,
   "outputs": [],
   "source": [
    "class MiniBatchLogisticRegression:\n",
    "    def __init__(self, learning_rate=0.01, max_iter=1000, tol=1e-4, batch_size=32, random_state=None, reg_param=0.1):\n",
    "        self.learning_rate = learning_rate\n",
    "        self.max_iter = max_iter\n",
    "        self.tol = tol\n",
    "        self.batch_size = batch_size\n",
    "        self.random_state = random_state\n",
    "        self.reg_param = reg_param\n",
    "        self.theta = None\n",
    "\n",
    "    def _sigmoid(self, z):\n",
    "        return 1 / (1 + np.exp(-z))\n",
    "\n",
    "    def _initialize_weights(self, n_features):\n",
    "        np.random.seed(self.random_state)\n",
    "        self.theta = np.random.randn(n_features)\n",
    "\n",
    "    def _compute_gradient(self, X, y):\n",
    "        z = np.dot(X, self.theta)\n",
    "        h = self._sigmoid(z)\n",
    "        gradient = np.dot(X.T, (h - y)) / len(y)\n",
    "        # Regularization term gradient\n",
    "        reg_gradient = self.reg_param * np.concatenate(([0], self.theta[1:] * 2))\n",
    "        gradient += reg_gradient\n",
    "        return gradient\n",
    "\n",
    "    def _compute_loss(self, X, y):\n",
    "        z = np.dot(X, self.theta)\n",
    "        h = self._sigmoid(z)\n",
    "        loss = -np.mean(y * np.log(h) + (1 - y) * np.log(1 - h))\n",
    "        # Regularization term\n",
    "        reg_term = self.reg_param * np.sum(self.theta[1:] ** 2)\n",
    "        loss += reg_term\n",
    "        return loss\n",
    "\n",
    "    def fit(self, X, y):\n",
    "        n_samples, n_features = X.shape\n",
    "        self._initialize_weights(n_features)\n",
    "        prev_loss = float('inf')\n",
    "\n",
    "        for _ in range(self.max_iter):\n",
    "            X_shuffled, y_shuffled = self._shuffle_data(X, y)\n",
    "            for i in range(0, n_samples, self.batch_size):\n",
    "                X_batch = X_shuffled[i:i+self.batch_size]\n",
    "                y_batch = y_shuffled[i:i+self.batch_size]\n",
    "                gradient = self._compute_gradient(X_batch, y_batch)\n",
    "                self.theta -= self.learning_rate * gradient\n",
    "\n",
    "            loss = self._compute_loss(X_shuffled, y_shuffled)\n",
    "            if abs(prev_loss - loss) < self.tol:\n",
    "                break\n",
    "            prev_loss = loss\n",
    "\n",
    "    def predict_proba(self, X):\n",
    "        z = np.dot(X, self.theta)\n",
    "        proba = self._sigmoid(z)\n",
    "        return proba\n",
    "\n",
    "    def predict(self, X, threshold=0.5):\n",
    "        proba = self.predict_proba(X)\n",
    "        predictions = (proba >= threshold).astype(int)\n",
    "        return predictions\n",
    "\n",
    "    def _shuffle_data(self, X, y):\n",
    "        indices = np.random.permutation(X.shape[0])\n",
    "        return X[indices], y[indices]"
   ],
   "metadata": {
    "collapsed": false
   }
  },
  {
   "cell_type": "code",
   "execution_count": 52,
   "outputs": [
    {
     "name": "stdout",
     "output_type": "stream",
     "text": [
      "Accuracy: 0.9210053859964094\n",
      "Precision: 0.9239766081871345\n",
      "Recall: 0.9239766081871345\n",
      "F1 Score: 0.9239766081871345\n"
     ]
    }
   ],
   "source": [
    "mini_batch_classifier = MiniBatchLogisticRegression(learning_rate=0.01, max_iter=1000, tol=1e-4, random_state=42)\n",
    "\n",
    "# Fit the model to the training data\n",
    "mini_batch_classifier.fit(X_train_tfidf.toarray(), y_train)\n",
    "\n",
    "# Make predictions on the test data\n",
    "predictions = mini_batch_classifier.predict(X_test_tfidf.toarray())\n",
    "\n",
    "# Calculate evaluation metrics\n",
    "accuracy, precision, recall, f1_score = calculate_metrics(y_test, predictions)\n",
    "\n",
    "# Print the evaluation metrics\n",
    "print(\"Accuracy:\", accuracy)\n",
    "print(\"Precision:\", precision)\n",
    "print(\"Recall:\", recall)\n",
    "print(\"F1 Score:\", f1_score)"
   ],
   "metadata": {
    "collapsed": false
   }
  },
  {
   "cell_type": "code",
   "execution_count": 53,
   "outputs": [
    {
     "name": "stdout",
     "output_type": "stream",
     "text": [
      "Best lambda: 0.001\n",
      "Test Set Metrics:\n",
      "Accuracy: 0.8699551569506726\n",
      "Precision: 0.8699551569506726\n",
      "Recall: 1.0\n",
      "F1 Score: 0.9304556354916067\n"
     ]
    }
   ],
   "source": [
    "# Make predictions on the validation set\n",
    "X_val_tfidf = tfidf_vectorizer.transform(val_data['Tokenized_Message'].values)\n",
    "\n",
    "\n",
    "# Define a list of regularization parameter values to try\n",
    "lambda_values = [0.001, 0.01, 0.1, 1, 10]\n",
    "\n",
    "best_lambda = None\n",
    "best_f1_score = -1  # Initialize with a value that will definitely be lower than any actual F1 score\n",
    "\n",
    "# Loop over lambda values\n",
    "for reg_param in lambda_values:\n",
    "    # Train the model\n",
    "    model = LogisticRegression(reg_param=reg_param)\n",
    "    model.fit(X_train_tfidf.toarray(), y_train)\n",
    "\n",
    "    # Make predictions on the validation set\n",
    "    predictions = model.predict(X_val_tfidf.toarray())\n",
    "\n",
    "    # Calculate F1 score\n",
    "    _, _, _, f1_score = calculate_metrics(y_val, predictions)\n",
    "\n",
    "    # Check if this lambda value gives better F1 score\n",
    "    if f1_score > best_f1_score:\n",
    "        best_lambda = reg_param\n",
    "        best_f1_score = f1_score\n",
    "\n",
    "# Train the model with the best lambda on the entire training set\n",
    "best_model = LogisticRegression(reg_param=best_lambda)\n",
    "best_model.fit(X_train_tfidf.toarray(), y_train)\n",
    "predictions = best_model.predict(X_val_tfidf.toarray())\n",
    "# Evaluate on the validation set\n",
    "accuracy, precision, recall, f1_score = calculate_metrics(y_val, predictions)\n",
    "\n",
    "print(\"Best lambda:\", best_lambda)\n",
    "print(\"Test Set Metrics:\")\n",
    "print(\"Accuracy:\", accuracy)\n",
    "print(\"Precision:\", precision)\n",
    "print(\"Recall:\", recall)\n",
    "print(\"F1 Score:\", f1_score)\n"
   ],
   "metadata": {
    "collapsed": false
   }
  },
  {
   "cell_type": "markdown",
   "source": [
    "As compare to my Logistic Regression and Stochastic GD, mini batch logistic regression performed well because mini batch gradient descent combines the advantage of both GD and SGD.\n",
    "1 - It is efficient.\n",
    "2 - It tries to avoid local minima by updating the parameters on a small subset of data."
   ],
   "metadata": {
    "collapsed": false
   }
  }
 ],
 "metadata": {
  "kernelspec": {
   "display_name": "Python 3",
   "language": "python",
   "name": "python3"
  },
  "language_info": {
   "codemirror_mode": {
    "name": "ipython",
    "version": 2
   },
   "file_extension": ".py",
   "mimetype": "text/x-python",
   "name": "python",
   "nbconvert_exporter": "python",
   "pygments_lexer": "ipython2",
   "version": "2.7.6"
  }
 },
 "nbformat": 4,
 "nbformat_minor": 0
}
