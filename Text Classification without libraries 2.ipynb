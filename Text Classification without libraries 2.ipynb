{
 "cells": [
  {
   "cell_type": "code",
   "execution_count": 5,
   "outputs": [],
   "source": [
    "import re\n",
    "import numpy as np\n",
    "from sklearn.model_selection import train_test_split\n",
    "from sklearn.feature_extraction.text import TfidfVectorizer\n",
    "from scipy.sparse import csr_matrix\n",
    "from scipy.special import expit"
   ],
   "metadata": {
    "collapsed": false
   }
  },
  {
   "cell_type": "code",
   "execution_count": 6,
   "outputs": [],
   "source": [
    "def preprocess_text(text):\n",
    "    text = text.lower()\n",
    "    text = re.sub(r'[^\\w\\s]', '', text)\n",
    "    return text\n",
    "\n",
    "# Load and preprocess the data\n",
    "def load_and_preprocess_data(file_path):\n",
    "    data = []\n",
    "    with open(file_path, 'r') as file:\n",
    "        for line in file:\n",
    "            parts = line.strip().split('\\t')\n",
    "            if len(parts) == 2:\n",
    "                data.append((preprocess_text(parts[1]), parts[0]))\n",
    "    return data\n",
    "\n",
    "def convert_labels_to_numeric(labels):\n",
    "    label_mapping = {'Jane Austen': 0, 'Arthur Conan Doyle': 1, 'Fyodor Dostoyevsky': 2}\n",
    "    return np.array([label_mapping[label] for label in labels])"
   ],
   "metadata": {
    "collapsed": false
   }
  },
  {
   "cell_type": "code",
   "execution_count": 7,
   "outputs": [],
   "source": [
    "class LogisticRegression:\n",
    "    def __init__(self, lr=0.01, num_epochs=100, batch_size=32):\n",
    "        self.lr = lr\n",
    "        self.num_epochs = num_epochs\n",
    "        self.batch_size = batch_size\n",
    "        self.weights = None\n",
    "        self.bias = None\n",
    "\n",
    "    def sigmoid(self, z):\n",
    "        return expit(z)\n",
    "\n",
    "    def fit_transform(self, X, y):\n",
    "        vectorizer = TfidfVectorizer()\n",
    "        X_tfidf = vectorizer.fit_transform(X)\n",
    "        X_tfidf = csr_matrix(X_tfidf)\n",
    "\n",
    "        # Initialize weights and bias\n",
    "        self.weights = np.zeros(X_tfidf.shape[1])\n",
    "        self.bias = 0\n",
    "\n",
    "        num_batches = X_tfidf.shape[0] // self.batch_size\n",
    "        for epoch in range(self.num_epochs):\n",
    "            for batch, i in enumerate(range(0, X_tfidf.shape[0], self.batch_size)):\n",
    "                X_batch = X_tfidf[i:i + self.batch_size]\n",
    "                y_batch = y[i:i + self.batch_size]\n",
    "\n",
    "                # Forward pass\n",
    "                z = X_batch.dot(self.weights) + self.bias\n",
    "                A = self.sigmoid(z)\n",
    "\n",
    "                # Compute gradients\n",
    "                dz = A - y_batch\n",
    "                dw = X_batch.T.dot(dz) / len(y_batch)\n",
    "                db = np.mean(dz)\n",
    "\n",
    "                # Update parameters\n",
    "                self.weights -= self.lr * dw\n",
    "                self.bias -= self.lr * db\n",
    "\n",
    "            # Print cost every 10 epochs\n",
    "            if epoch % 10 == 0:\n",
    "                z = X_tfidf.dot(self.weights) + self.bias\n",
    "                A = self.sigmoid(z)\n",
    "                cost = -np.mean(y * np.log(A) + (1 - y) * np.log(1 - A))\n",
    "                print(f'Epoch {epoch}: Cost {cost}')\n",
    "\n",
    "        return X_tfidf, self.weights, vectorizer\n",
    "\n",
    "\n",
    "\n",
    "    def predict(self, X):\n",
    "        z = X.dot(self.weights) + self.bias\n",
    "        A = self.sigmoid(z)\n",
    "        return (A > 0.5).astype(int)\n"
   ],
   "metadata": {
    "collapsed": false
   }
  },
  {
   "cell_type": "code",
   "execution_count": 8,
   "outputs": [
    {
     "name": "stdout",
     "output_type": "stream",
     "text": [
      "Epoch 0: Cost 0.5721263146352233\n",
      "Epoch 10: Cost 0.4275728093598143\n",
      "Epoch 20: Cost 0.31533983403155486\n",
      "Epoch 30: Cost 0.21849129052007152\n",
      "Epoch 40: Cost 0.13270590994789422\n",
      "Epoch 50: Cost 0.05497435879848055\n",
      "Epoch 60: Cost -0.01675101594448709\n",
      "Epoch 70: Cost -0.08387724203280193\n",
      "Epoch 80: Cost -0.1473934031849272\n",
      "Epoch 90: Cost -0.20801324556459969\n",
      "Accuracy: 0.3172978505629478\n"
     ]
    }
   ],
   "source": [
    "# Load and preprocess the data\n",
    "file_path = \"/Users/naveenverma/Desktop/NewStart/Dataset/a1-data/books.txt\"\n",
    "data = load_and_preprocess_data(file_path)\n",
    "\n",
    "# Split data into features (X) and labels (y)\n",
    "X = np.array([entry[0] for entry in data])\n",
    "y = np.array([entry[1] for entry in data])\n",
    "\n",
    "# Convert labels to numeric values\n",
    "y_numeric = convert_labels_to_numeric(y)\n",
    "\n",
    "# Split data into train and test sets\n",
    "X_train, X_test, y_train, y_test = train_test_split(X, y_numeric, test_size=0.2, random_state=42)\n",
    "\n",
    "# Initialize and train the logistic regression model\n",
    "model = LogisticRegression()\n",
    "X_train_transformed, weights, vectorizer = model.fit_transform(X_train, y_train)\n",
    "\n",
    "# Make predictions on the test set\n",
    "X_test_transformed = vectorizer.transform(X_test)\n",
    "y_pred = model.predict(X_test_transformed)\n",
    "\n",
    "# Calculate accuracy\n",
    "accuracy = np.mean(y_pred == y_test)\n",
    "print(\"Accuracy:\", accuracy)"
   ],
   "metadata": {
    "collapsed": false
   }
  }
 ],
 "metadata": {
  "kernelspec": {
   "display_name": "Python 3",
   "language": "python",
   "name": "python3"
  },
  "language_info": {
   "codemirror_mode": {
    "name": "ipython",
    "version": 2
   },
   "file_extension": ".py",
   "mimetype": "text/x-python",
   "name": "python",
   "nbconvert_exporter": "python",
   "pygments_lexer": "ipython2",
   "version": "2.7.6"
  }
 },
 "nbformat": 4,
 "nbformat_minor": 0
}
